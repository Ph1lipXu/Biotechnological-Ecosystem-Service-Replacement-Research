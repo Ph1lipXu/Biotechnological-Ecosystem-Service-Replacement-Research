{
  "nbformat": 4,
  "nbformat_minor": 0,
  "metadata": {
    "colab": {
      "provenance": [],
      "toc_visible": true
    },
    "kernelspec": {
      "name": "python3",
      "display_name": "Python 3"
    },
    "language_info": {
      "name": "python"
    }
  },
  "cells": [
    {
      "cell_type": "code",
      "source": [
        "!pip install pyLDAvis\n",
        "!pip install sentence-transformers scipy"
      ],
      "metadata": {
        "colab": {
          "base_uri": "https://localhost:8080/"
        },
        "id": "lXQgd_-q5-0L",
        "outputId": "73196658-3829-4d7b-ce30-5ceda563c4a4"
      },
      "execution_count": 1,
      "outputs": [
        {
          "output_type": "stream",
          "name": "stdout",
          "text": [
            "Collecting pyLDAvis\n",
            "  Downloading pyLDAvis-3.4.1-py3-none-any.whl.metadata (4.2 kB)\n",
            "Requirement already satisfied: numpy>=1.24.2 in /usr/local/lib/python3.10/dist-packages (from pyLDAvis) (1.26.4)\n",
            "Requirement already satisfied: scipy in /usr/local/lib/python3.10/dist-packages (from pyLDAvis) (1.13.1)\n",
            "Requirement already satisfied: pandas>=2.0.0 in /usr/local/lib/python3.10/dist-packages (from pyLDAvis) (2.2.2)\n",
            "Requirement already satisfied: joblib>=1.2.0 in /usr/local/lib/python3.10/dist-packages (from pyLDAvis) (1.4.2)\n",
            "Requirement already satisfied: jinja2 in /usr/local/lib/python3.10/dist-packages (from pyLDAvis) (3.1.4)\n",
            "Requirement already satisfied: numexpr in /usr/local/lib/python3.10/dist-packages (from pyLDAvis) (2.10.2)\n",
            "Collecting funcy (from pyLDAvis)\n",
            "  Downloading funcy-2.0-py2.py3-none-any.whl.metadata (5.9 kB)\n",
            "Requirement already satisfied: scikit-learn>=1.0.0 in /usr/local/lib/python3.10/dist-packages (from pyLDAvis) (1.5.2)\n",
            "Requirement already satisfied: gensim in /usr/local/lib/python3.10/dist-packages (from pyLDAvis) (4.3.3)\n",
            "Requirement already satisfied: setuptools in /usr/local/lib/python3.10/dist-packages (from pyLDAvis) (75.1.0)\n",
            "Requirement already satisfied: python-dateutil>=2.8.2 in /usr/local/lib/python3.10/dist-packages (from pandas>=2.0.0->pyLDAvis) (2.8.2)\n",
            "Requirement already satisfied: pytz>=2020.1 in /usr/local/lib/python3.10/dist-packages (from pandas>=2.0.0->pyLDAvis) (2024.2)\n",
            "Requirement already satisfied: tzdata>=2022.7 in /usr/local/lib/python3.10/dist-packages (from pandas>=2.0.0->pyLDAvis) (2024.2)\n",
            "Requirement already satisfied: threadpoolctl>=3.1.0 in /usr/local/lib/python3.10/dist-packages (from scikit-learn>=1.0.0->pyLDAvis) (3.5.0)\n",
            "Requirement already satisfied: smart-open>=1.8.1 in /usr/local/lib/python3.10/dist-packages (from gensim->pyLDAvis) (7.0.5)\n",
            "Requirement already satisfied: MarkupSafe>=2.0 in /usr/local/lib/python3.10/dist-packages (from jinja2->pyLDAvis) (3.0.2)\n",
            "Requirement already satisfied: six>=1.5 in /usr/local/lib/python3.10/dist-packages (from python-dateutil>=2.8.2->pandas>=2.0.0->pyLDAvis) (1.16.0)\n",
            "Requirement already satisfied: wrapt in /usr/local/lib/python3.10/dist-packages (from smart-open>=1.8.1->gensim->pyLDAvis) (1.17.0)\n",
            "Downloading pyLDAvis-3.4.1-py3-none-any.whl (2.6 MB)\n",
            "\u001b[2K   \u001b[90m━━━━━━━━━━━━━━━━━━━━━━━━━━━━━━━━━━━━━━━━\u001b[0m \u001b[32m2.6/2.6 MB\u001b[0m \u001b[31m39.9 MB/s\u001b[0m eta \u001b[36m0:00:00\u001b[0m\n",
            "\u001b[?25hDownloading funcy-2.0-py2.py3-none-any.whl (30 kB)\n",
            "Installing collected packages: funcy, pyLDAvis\n",
            "Successfully installed funcy-2.0 pyLDAvis-3.4.1\n",
            "Requirement already satisfied: sentence-transformers in /usr/local/lib/python3.10/dist-packages (3.2.1)\n",
            "Requirement already satisfied: scipy in /usr/local/lib/python3.10/dist-packages (1.13.1)\n",
            "Requirement already satisfied: transformers<5.0.0,>=4.41.0 in /usr/local/lib/python3.10/dist-packages (from sentence-transformers) (4.46.3)\n",
            "Requirement already satisfied: tqdm in /usr/local/lib/python3.10/dist-packages (from sentence-transformers) (4.66.6)\n",
            "Requirement already satisfied: torch>=1.11.0 in /usr/local/lib/python3.10/dist-packages (from sentence-transformers) (2.5.1+cu121)\n",
            "Requirement already satisfied: scikit-learn in /usr/local/lib/python3.10/dist-packages (from sentence-transformers) (1.5.2)\n",
            "Requirement already satisfied: huggingface-hub>=0.20.0 in /usr/local/lib/python3.10/dist-packages (from sentence-transformers) (0.26.3)\n",
            "Requirement already satisfied: Pillow in /usr/local/lib/python3.10/dist-packages (from sentence-transformers) (11.0.0)\n",
            "Requirement already satisfied: numpy<2.3,>=1.22.4 in /usr/local/lib/python3.10/dist-packages (from scipy) (1.26.4)\n",
            "Requirement already satisfied: filelock in /usr/local/lib/python3.10/dist-packages (from huggingface-hub>=0.20.0->sentence-transformers) (3.16.1)\n",
            "Requirement already satisfied: fsspec>=2023.5.0 in /usr/local/lib/python3.10/dist-packages (from huggingface-hub>=0.20.0->sentence-transformers) (2024.10.0)\n",
            "Requirement already satisfied: packaging>=20.9 in /usr/local/lib/python3.10/dist-packages (from huggingface-hub>=0.20.0->sentence-transformers) (24.2)\n",
            "Requirement already satisfied: pyyaml>=5.1 in /usr/local/lib/python3.10/dist-packages (from huggingface-hub>=0.20.0->sentence-transformers) (6.0.2)\n",
            "Requirement already satisfied: requests in /usr/local/lib/python3.10/dist-packages (from huggingface-hub>=0.20.0->sentence-transformers) (2.32.3)\n",
            "Requirement already satisfied: typing-extensions>=3.7.4.3 in /usr/local/lib/python3.10/dist-packages (from huggingface-hub>=0.20.0->sentence-transformers) (4.12.2)\n",
            "Requirement already satisfied: networkx in /usr/local/lib/python3.10/dist-packages (from torch>=1.11.0->sentence-transformers) (3.4.2)\n",
            "Requirement already satisfied: jinja2 in /usr/local/lib/python3.10/dist-packages (from torch>=1.11.0->sentence-transformers) (3.1.4)\n",
            "Requirement already satisfied: sympy==1.13.1 in /usr/local/lib/python3.10/dist-packages (from torch>=1.11.0->sentence-transformers) (1.13.1)\n",
            "Requirement already satisfied: mpmath<1.4,>=1.1.0 in /usr/local/lib/python3.10/dist-packages (from sympy==1.13.1->torch>=1.11.0->sentence-transformers) (1.3.0)\n",
            "Requirement already satisfied: regex!=2019.12.17 in /usr/local/lib/python3.10/dist-packages (from transformers<5.0.0,>=4.41.0->sentence-transformers) (2024.9.11)\n",
            "Requirement already satisfied: tokenizers<0.21,>=0.20 in /usr/local/lib/python3.10/dist-packages (from transformers<5.0.0,>=4.41.0->sentence-transformers) (0.20.3)\n",
            "Requirement already satisfied: safetensors>=0.4.1 in /usr/local/lib/python3.10/dist-packages (from transformers<5.0.0,>=4.41.0->sentence-transformers) (0.4.5)\n",
            "Requirement already satisfied: joblib>=1.2.0 in /usr/local/lib/python3.10/dist-packages (from scikit-learn->sentence-transformers) (1.4.2)\n",
            "Requirement already satisfied: threadpoolctl>=3.1.0 in /usr/local/lib/python3.10/dist-packages (from scikit-learn->sentence-transformers) (3.5.0)\n",
            "Requirement already satisfied: MarkupSafe>=2.0 in /usr/local/lib/python3.10/dist-packages (from jinja2->torch>=1.11.0->sentence-transformers) (3.0.2)\n",
            "Requirement already satisfied: charset-normalizer<4,>=2 in /usr/local/lib/python3.10/dist-packages (from requests->huggingface-hub>=0.20.0->sentence-transformers) (3.4.0)\n",
            "Requirement already satisfied: idna<4,>=2.5 in /usr/local/lib/python3.10/dist-packages (from requests->huggingface-hub>=0.20.0->sentence-transformers) (3.10)\n",
            "Requirement already satisfied: urllib3<3,>=1.21.1 in /usr/local/lib/python3.10/dist-packages (from requests->huggingface-hub>=0.20.0->sentence-transformers) (2.2.3)\n",
            "Requirement already satisfied: certifi>=2017.4.17 in /usr/local/lib/python3.10/dist-packages (from requests->huggingface-hub>=0.20.0->sentence-transformers) (2024.8.30)\n"
          ]
        }
      ]
    },
    {
      "cell_type": "code",
      "source": [
        "# Download NLTK packages\n",
        "nltk.download('stopwords')\n",
        "nltk.download('wordnet')\n",
        "nltk.download('punkt')\n",
        "nltk.download('punkt_tab')"
      ],
      "metadata": {
        "colab": {
          "base_uri": "https://localhost:8080/"
        },
        "id": "PoEEDNHNoCuZ",
        "outputId": "01327cbb-44de-4b1b-bdc5-ea70bc05f359"
      },
      "execution_count": 3,
      "outputs": [
        {
          "output_type": "stream",
          "name": "stderr",
          "text": [
            "/usr/local/lib/python3.10/dist-packages/ipykernel/ipkernel.py:283: DeprecationWarning: `should_run_async` will not call `transform_cell` automatically in the future. Please pass the result to `transformed_cell` argument and any exception that happen during thetransform in `preprocessing_exc_tuple` in IPython 7.17 and above.\n",
            "  and should_run_async(code)\n",
            "[nltk_data] Downloading package stopwords to /root/nltk_data...\n",
            "[nltk_data]   Unzipping corpora/stopwords.zip.\n",
            "[nltk_data] Downloading package wordnet to /root/nltk_data...\n",
            "[nltk_data] Downloading package punkt to /root/nltk_data...\n",
            "[nltk_data]   Unzipping tokenizers/punkt.zip.\n",
            "[nltk_data] Downloading package punkt_tab to /root/nltk_data...\n",
            "[nltk_data]   Unzipping tokenizers/punkt_tab.zip.\n"
          ]
        },
        {
          "output_type": "execute_result",
          "data": {
            "text/plain": [
              "True"
            ]
          },
          "metadata": {},
          "execution_count": 3
        }
      ]
    },
    {
      "cell_type": "code",
      "source": [
        "import matplotlib.pyplot as plt\n",
        "import nltk\n",
        "import numpy as np\n",
        "import pandas as pd\n",
        "import pyLDAvis.gensim\n",
        "import re\n",
        "import seaborn as sns\n",
        "\n",
        "from gensim.models import CoherenceModel\n",
        "from gensim.corpora.dictionary import Dictionary\n",
        "from gensim.models import LdaModel\n",
        "from nltk.corpus import stopwords\n",
        "from nltk.stem import WordNetLemmatizer\n",
        "from sentence_transformers import SentenceTransformer\n",
        "from sklearn.feature_extraction.text import CountVectorizer\n",
        "from sklearn.metrics import jaccard_score\n",
        "from sklearn.metrics.pairwise import cosine_similarity\n",
        "\n",
        "from google.colab import drive"
      ],
      "metadata": {
        "colab": {
          "base_uri": "https://localhost:8080/"
        },
        "id": "_nGLhmxt3o2P",
        "outputId": "54cbfe1f-16ff-4e84-fcf6-f6455171e490"
      },
      "execution_count": 2,
      "outputs": [
        {
          "output_type": "stream",
          "name": "stderr",
          "text": [
            "/usr/local/lib/python3.10/dist-packages/sentence_transformers/cross_encoder/CrossEncoder.py:13: TqdmExperimentalWarning: Using `tqdm.autonotebook.tqdm` in notebook mode. Use `tqdm.tqdm` instead to force console mode (e.g. in jupyter console)\n",
            "  from tqdm.autonotebook import tqdm, trange\n",
            "/usr/local/lib/python3.10/dist-packages/tensorflow/lite/python/util.py:55: DeprecationWarning: jax.xla_computation is deprecated. Please use the AOT APIs; see https://jax.readthedocs.io/en/latest/aot.html. For example, replace xla_computation(f)(*xs) with jit(f).lower(*xs).compiler_ir('hlo'). See CHANGELOG.md for 0.4.30 for more examples.\n",
            "  from jax import xla_computation as _xla_computation\n",
            "/usr/local/lib/python3.10/dist-packages/tensorflow/lite/python/util.py:55: DeprecationWarning: jax.xla_computation is deprecated. Please use the AOT APIs; see https://jax.readthedocs.io/en/latest/aot.html. For example, replace xla_computation(f)(*xs) with jit(f).lower(*xs).compiler_ir('hlo'). See CHANGELOG.md for 0.4.30 for more examples.\n",
            "  from jax import xla_computation as _xla_computation\n"
          ]
        }
      ]
    },
    {
      "cell_type": "code",
      "source": [
        "drive.mount('/content/drive')\n",
        "\n",
        "data = pd.read_excel('/content/drive/MyDrive/Manufactured Ecosystems/waste treatment/waste treatment.xlsx')\n",
        "data = pd.DataFrame(data)"
      ],
      "metadata": {
        "colab": {
          "base_uri": "https://localhost:8080/"
        },
        "id": "_3Ouk5J1sI3Y",
        "outputId": "c8074eae-3660-4ac0-93a6-46f384073f89"
      },
      "execution_count": 40,
      "outputs": [
        {
          "output_type": "stream",
          "name": "stderr",
          "text": [
            "/usr/local/lib/python3.10/dist-packages/ipykernel/ipkernel.py:283: DeprecationWarning: `should_run_async` will not call `transform_cell` automatically in the future. Please pass the result to `transformed_cell` argument and any exception that happen during thetransform in `preprocessing_exc_tuple` in IPython 7.17 and above.\n",
            "  and should_run_async(code)\n"
          ]
        },
        {
          "output_type": "stream",
          "name": "stdout",
          "text": [
            "Drive already mounted at /content/drive; to attempt to forcibly remount, call drive.mount(\"/content/drive\", force_remount=True).\n"
          ]
        }
      ]
    },
    {
      "cell_type": "markdown",
      "source": [
        "## Preprocessing"
      ],
      "metadata": {
        "id": "H3Z-Qz5-6L3d"
      }
    },
    {
      "cell_type": "markdown",
      "source": [
        "Feature Engineering, combine suitability and confidence score as composite score where high score means high suitablity **AND** high confidence level. Low score means low suitability **OR** low confidence level."
      ],
      "metadata": {
        "id": "ZewinulAnDT1"
      }
    },
    {
      "cell_type": "code",
      "source": [
        "import pandas as pd\n",
        "# Map Suitability Labels to Numerical Values\n",
        "label_to_value = {\"yes\": 0.9, \"maybe\": 0.5, \"no\": 0.2}\n",
        "data[\"Suitability\"] = data[\"Suitability\"].map(label_to_value)\n",
        "\n",
        "# Compute Composite Score\n",
        "data[\"Composite Score\"] = data[\"Suitability\"] * data[\"Confidence\"]\n",
        "\n",
        "# Output the DataFrame\n",
        "print(data.head(5))"
      ],
      "metadata": {
        "colab": {
          "base_uri": "https://localhost:8080/"
        },
        "id": "YYT9NlC0Czbg",
        "outputId": "e6edf94c-217c-4ce0-f65f-c421b3e9c28c"
      },
      "execution_count": 41,
      "outputs": [
        {
          "output_type": "stream",
          "name": "stdout",
          "text": [
            "   Index     Authors                                      Article Title  \\\n",
            "0     24  Prabakaran  Managing environmental contamination through p...   \n",
            "1    151     Peruzzi  Stabilization process in reed bed systems for ...   \n",
            "2    192     Bonnail  Metal Pollution and Mining in the Iberian Pyri...   \n",
            "3      9        Masi  The role of constructed wetlands in a new circ...   \n",
            "4     72   Guimaraes  Microbial services and their management: Recen...   \n",
            "\n",
            "   Unnamed: 3  Publication Year  \\\n",
            "0         NaN              2019   \n",
            "1         NaN              2017   \n",
            "2         NaN              2023   \n",
            "3         NaN              2018   \n",
            "4         NaN              2010   \n",
            "\n",
            "                                            Abstract  Suitability  Confidence  \\\n",
            "0  Environmental degradation by contaminants is a...          0.9        0.75   \n",
            "1  Reed bed systems (RBS) represent an innovative...          0.9        0.75   \n",
            "2  The highly metal-contaminated Odiel-Tinto Rive...          0.9        0.75   \n",
            "3  Wastewater management is included in one of th...          0.5        0.70   \n",
            "4  There is an increasing interest in soils and s...          0.5        0.75   \n",
            "\n",
            "                        Keyword  Composite Score  \n",
            "0              phytoremediation            0.675  \n",
            "1          sludge stabilization            0.675  \n",
            "2  amd remediation technologies            0.675  \n",
            "3    constructed wetlands (cws)            0.350  \n",
            "4            soil biotechnology            0.375  \n"
          ]
        },
        {
          "output_type": "stream",
          "name": "stderr",
          "text": [
            "/usr/local/lib/python3.10/dist-packages/ipykernel/ipkernel.py:283: DeprecationWarning: `should_run_async` will not call `transform_cell` automatically in the future. Please pass the result to `transformed_cell` argument and any exception that happen during thetransform in `preprocessing_exc_tuple` in IPython 7.17 and above.\n",
            "  and should_run_async(code)\n"
          ]
        }
      ]
    },
    {
      "cell_type": "code",
      "source": [
        "# Preprocessing function\n",
        "def preprocess_text(text):\n",
        "    stop_words = set(stopwords.words('english'))\n",
        "    lemmatizer = WordNetLemmatizer()\n",
        "\n",
        "    # Lowercase, remove special characters\n",
        "    text = re.sub(r'[^\\w\\s]', '', text.lower())\n",
        "\n",
        "    # Tokenize\n",
        "    words = nltk.word_tokenize(text)\n",
        "\n",
        "    # Remove stopwords and lemmatize\n",
        "    processed = [lemmatizer.lemmatize(word) for word in words if word not in stop_words]\n",
        "    return processed\n",
        "\n",
        "# Load abstracts\n",
        "abstracts = data['Abstract']\n",
        "keywords = data['Keyword']\n",
        "# Preprocess all abstracts\n",
        "preprocessed_abstracts = [preprocess_text(abstract) for abstract in abstracts]\n",
        "preprocessed_keywords = [preprocess_text(keyword) for keyword in keywords]"
      ],
      "metadata": {
        "colab": {
          "base_uri": "https://localhost:8080/"
        },
        "id": "Pq4-Cz8Y5gU2",
        "outputId": "56ff6296-06ac-4342-9d99-40549bf84f22"
      },
      "execution_count": 42,
      "outputs": [
        {
          "output_type": "stream",
          "name": "stderr",
          "text": [
            "/usr/local/lib/python3.10/dist-packages/ipykernel/ipkernel.py:283: DeprecationWarning: `should_run_async` will not call `transform_cell` automatically in the future. Please pass the result to `transformed_cell` argument and any exception that happen during thetransform in `preprocessing_exc_tuple` in IPython 7.17 and above.\n",
            "  and should_run_async(code)\n"
          ]
        }
      ]
    },
    {
      "cell_type": "markdown",
      "source": [
        "# LDA"
      ],
      "metadata": {
        "id": "hpXz3PNK6Wy6"
      }
    },
    {
      "cell_type": "markdown",
      "source": [
        "## Optimal Topic Number"
      ],
      "metadata": {
        "id": "lZz_BcAxpgZX"
      }
    },
    {
      "cell_type": "code",
      "source": [
        "# Create a dictionary representation of the documents\n",
        "dictionary = Dictionary(preprocessed_abstracts)\n",
        "\n",
        "# Convert the documents into a bag-of-words format\n",
        "corpus = [dictionary.doc2bow(text) for text in preprocessed_abstracts]\n",
        "\n",
        "print(\"Sample BOW representation:\", corpus[:1])  # Example output"
      ],
      "metadata": {
        "colab": {
          "base_uri": "https://localhost:8080/"
        },
        "id": "bnyXHB3S6RzJ",
        "outputId": "79ad8bc6-57d5-4e0a-dab8-9e6620b8aaad"
      },
      "execution_count": 43,
      "outputs": [
        {
          "output_type": "stream",
          "name": "stdout",
          "text": [
            "Sample BOW representation: [[(0, 1), (1, 1), (2, 1), (3, 1), (4, 1), (5, 1), (6, 1), (7, 1), (8, 1), (9, 1), (10, 1), (11, 1), (12, 1), (13, 1), (14, 1), (15, 1), (16, 6), (17, 1), (18, 1), (19, 2), (20, 1), (21, 1), (22, 1), (23, 1), (24, 1), (25, 1), (26, 1), (27, 1), (28, 3), (29, 1), (30, 1), (31, 1), (32, 1), (33, 1), (34, 1), (35, 1), (36, 1), (37, 1), (38, 1), (39, 2), (40, 2), (41, 1), (42, 1), (43, 1), (44, 1), (45, 1), (46, 1), (47, 1), (48, 1), (49, 1), (50, 1), (51, 5), (52, 1), (53, 1), (54, 1), (55, 1), (56, 2), (57, 1), (58, 1), (59, 1), (60, 1), (61, 3), (62, 6), (63, 1), (64, 1), (65, 1), (66, 1), (67, 1), (68, 1), (69, 5), (70, 1), (71, 1), (72, 1), (73, 1), (74, 1), (75, 1), (76, 1), (77, 1), (78, 1), (79, 2), (80, 2), (81, 1), (82, 1), (83, 1), (84, 1), (85, 1), (86, 1), (87, 1), (88, 1), (89, 1), (90, 1), (91, 1), (92, 1), (93, 1), (94, 2), (95, 2), (96, 1), (97, 1), (98, 1), (99, 1), (100, 1)]]\n"
          ]
        },
        {
          "output_type": "stream",
          "name": "stderr",
          "text": [
            "/usr/local/lib/python3.10/dist-packages/ipykernel/ipkernel.py:283: DeprecationWarning: `should_run_async` will not call `transform_cell` automatically in the future. Please pass the result to `transformed_cell` argument and any exception that happen during thetransform in `preprocessing_exc_tuple` in IPython 7.17 and above.\n",
            "  and should_run_async(code)\n"
          ]
        }
      ]
    },
    {
      "cell_type": "code",
      "source": [
        "# Function to compute coherence scores for different topic numbers\n",
        "def find_optimal_topics(corpus, dictionary, texts, start=2, end=20):\n",
        "    coherence_scores = []\n",
        "    for num_topics in range(start, end + 1):\n",
        "        lda_model = LdaModel(corpus, num_topics=num_topics, id2word=dictionary, passes=15, random_state=42)\n",
        "        coherence_model = CoherenceModel(model=lda_model, texts=texts, dictionary=dictionary, coherence='c_v')\n",
        "        coherence_scores.append((num_topics, coherence_model.get_coherence()))\n",
        "    return coherence_scores\n",
        "\n",
        "# Compute coherence scores\n",
        "coherence_scores = find_optimal_topics(corpus, dictionary, preprocessed_abstracts)\n",
        "\n",
        "# Plot the coherence scores\n",
        "import matplotlib.pyplot as plt\n",
        "x, y = zip(*coherence_scores)\n",
        "plt.plot(x, y, marker='o')\n",
        "plt.xlabel(\"Number of Topics\")\n",
        "plt.ylabel(\"Coherence Score\")\n",
        "plt.title(\"Coherence Score vs. Number of Topics\")\n",
        "plt.show()"
      ],
      "metadata": {
        "colab": {
          "base_uri": "https://localhost:8080/",
          "height": 527
        },
        "id": "SrHD4jgW7ts7",
        "outputId": "313e9b3a-75d1-4eb3-bd6d-05e8c7efe6d1"
      },
      "execution_count": 44,
      "outputs": [
        {
          "output_type": "stream",
          "name": "stderr",
          "text": [
            "/usr/local/lib/python3.10/dist-packages/ipykernel/ipkernel.py:283: DeprecationWarning: `should_run_async` will not call `transform_cell` automatically in the future. Please pass the result to `transformed_cell` argument and any exception that happen during thetransform in `preprocessing_exc_tuple` in IPython 7.17 and above.\n",
            "  and should_run_async(code)\n"
          ]
        },
        {
          "output_type": "display_data",
          "data": {
            "text/plain": [
              "<Figure size 640x480 with 1 Axes>"
            ],
            "image/png": "[encoded data removed]"
          },
          "metadata": {}
        }
      ]
    },
    {
      "cell_type": "code",
      "source": [
        "# Number of topics to extract\n",
        "num_topics = 3\n",
        "\n",
        "# Train the LDA model\n",
        "lda_model = LdaModel(corpus, num_topics=num_topics, id2word=dictionary, passes=15, random_state=89)\n",
        "\n",
        "# Print the topics\n",
        "topics = lda_model.print_topics(num_words=10)\n",
        "for topic_num, topic in topics:\n",
        "    print(f\"Topic {topic_num+1}: {topic}\")"
      ],
      "metadata": {
        "colab": {
          "base_uri": "https://localhost:8080/"
        },
        "id": "LVFmgLYz6YAd",
        "outputId": "b88598ce-30c7-4ecb-fd93-1ed94739fdd9"
      },
      "execution_count": 45,
      "outputs": [
        {
          "output_type": "stream",
          "name": "stderr",
          "text": [
            "/usr/local/lib/python3.10/dist-packages/ipykernel/ipkernel.py:283: DeprecationWarning: `should_run_async` will not call `transform_cell` automatically in the future. Please pass the result to `transformed_cell` argument and any exception that happen during thetransform in `preprocessing_exc_tuple` in IPython 7.17 and above.\n",
            "  and should_run_async(code)\n"
          ]
        },
        {
          "output_type": "stream",
          "name": "stdout",
          "text": [
            "Topic 1: 0.021*\"water\" + 0.009*\"ecosystem\" + 0.008*\"treatment\" + 0.007*\"service\" + 0.006*\"urban\" + 0.005*\"wastewater\" + 0.005*\"wetland\" + 0.005*\"system\" + 0.005*\"management\" + 0.004*\"quality\"\n",
            "Topic 2: 0.010*\"ecosystem\" + 0.008*\"treatment\" + 0.007*\"water\" + 0.006*\"wastewater\" + 0.006*\"system\" + 0.005*\"service\" + 0.004*\"technology\" + 0.004*\"management\" + 0.004*\"study\" + 0.004*\"production\"\n",
            "Topic 3: 0.011*\"ecosystem\" + 0.010*\"service\" + 0.008*\"treatment\" + 0.007*\"value\" + 0.006*\"wastewater\" + 0.006*\"water\" + 0.006*\"system\" + 0.005*\"study\" + 0.004*\"plant\" + 0.004*\"total\"\n"
          ]
        }
      ]
    },
    {
      "cell_type": "markdown",
      "source": [
        "## Compare with LLM Keywords"
      ],
      "metadata": {
        "id": "W3_Q40Va6kpj"
      }
    },
    {
      "cell_type": "code",
      "source": [
        "# Function to calculate Jaccard similarity\n",
        "def jaccard_similarity(list1, list2):\n",
        "    set1, set2 = set(list1), set(list2)\n",
        "    return len(set1 & set2) / len(set1 | set2)\n",
        "\n",
        "def preprocess_keywords(keywords):\n",
        "    lemmatizer = WordNetLemmatizer()\n",
        "    stop_words = set(stopwords.words('english'))\n",
        "\n",
        "    # Preprocess LLM keywords\n",
        "    processed_keywords = [\n",
        "        lemmatizer.lemmatize(word.lower())\n",
        "        for word in keywords if word.lower() not in stop_words\n",
        "    ]\n",
        "    return processed_keywords\n",
        "\n",
        "processed_keywords = preprocess_keywords(keywords)\n",
        "\n",
        "# Compare LDA topics with LLM keywords\n",
        "for topic_num, topic in topics:\n",
        "    lda_keywords = [term.split('*')[1].strip('\"') for term in topic.split('+')]\n",
        "    similarity = jaccard_similarity(processed_keywords, lda_keywords)\n",
        "    print(f\"Jaccard Similarity with Topic {topic_num+1}: {similarity}\")"
      ],
      "metadata": {
        "colab": {
          "base_uri": "https://localhost:8080/"
        },
        "id": "tVsrmplc6m1s",
        "outputId": "46d7b7b8-fffa-4fd5-aa50-60a8efbbd70b"
      },
      "execution_count": 46,
      "outputs": [
        {
          "output_type": "stream",
          "name": "stdout",
          "text": [
            "Jaccard Similarity with Topic 1: 0.0\n",
            "Jaccard Similarity with Topic 2: 0.0\n",
            "Jaccard Similarity with Topic 3: 0.0\n"
          ]
        },
        {
          "output_type": "stream",
          "name": "stderr",
          "text": [
            "/usr/local/lib/python3.10/dist-packages/ipykernel/ipkernel.py:283: DeprecationWarning: `should_run_async` will not call `transform_cell` automatically in the future. Please pass the result to `transformed_cell` argument and any exception that happen during thetransform in `preprocessing_exc_tuple` in IPython 7.17 and above.\n",
            "  and should_run_async(code)\n"
          ]
        }
      ]
    },
    {
      "cell_type": "code",
      "source": [
        "from sklearn.feature_extraction.text import TfidfVectorizer\n",
        "\n",
        "# Combine all LDA topic terms and LLM keywords into one list\n",
        "all_terms = [' '.join(lda_keywords), ' '.join(keywords)]\n",
        "\n",
        "# Compute TF-IDF matrix\n",
        "vectorizer = TfidfVectorizer()\n",
        "tfidf_matrix = vectorizer.fit_transform(all_terms)\n",
        "\n",
        "# Compute cosine similarity between LDA and LLM terms\n",
        "cosine_sim = cosine_similarity(tfidf_matrix[0:1], tfidf_matrix[1:2])\n",
        "print(\"TF-IDF Cosine Similarity:\", cosine_sim[0][0])"
      ],
      "metadata": {
        "colab": {
          "base_uri": "https://localhost:8080/"
        },
        "id": "NKqpe7g29cUw",
        "outputId": "eb5ddfdd-3224-4c63-a863-d048d843bd88"
      },
      "execution_count": 47,
      "outputs": [
        {
          "output_type": "stream",
          "name": "stdout",
          "text": [
            "TF-IDF Cosine Similarity: 0.30729662818274545\n"
          ]
        },
        {
          "output_type": "stream",
          "name": "stderr",
          "text": [
            "/usr/local/lib/python3.10/dist-packages/ipykernel/ipkernel.py:283: DeprecationWarning: `should_run_async` will not call `transform_cell` automatically in the future. Please pass the result to `transformed_cell` argument and any exception that happen during thetransform in `preprocessing_exc_tuple` in IPython 7.17 and above.\n",
            "  and should_run_async(code)\n"
          ]
        }
      ]
    },
    {
      "cell_type": "code",
      "source": [
        "# Identify contributing keywords\n",
        "feature_names = vectorizer.get_feature_names_out()\n",
        "lda_vector = tfidf_matrix[0].toarray().flatten()\n",
        "llm_vector = tfidf_matrix[1].toarray().flatten()\n",
        "\n",
        "# Match terms with their TF-IDF weights\n",
        "term_weights = [(feature_names[i], lda_vector[i], llm_vector[i]) for i in range(len(feature_names))]\n",
        "\n",
        "# Filter terms where both vectors have non-zero weights\n",
        "common_terms = [(term, lda_weight, llm_weight) for term, lda_weight, llm_weight in term_weights if lda_weight > 0 and llm_weight > 0]\n",
        "print(\"Common Terms with TF-IDF Weights:\", common_terms)"
      ],
      "metadata": {
        "colab": {
          "base_uri": "https://localhost:8080/"
        },
        "id": "ihBdLYzY_CY-",
        "outputId": "63a949c6-c800-4426-96c4-85503d06a42f"
      },
      "execution_count": 48,
      "outputs": [
        {
          "output_type": "stream",
          "name": "stdout",
          "text": [
            "Common Terms with TF-IDF Weights: [('ecosystem', 0.2682080718928097, 0.17458890232303026), ('plant', 0.2682080718928097, 0.010911806395189391), ('service', 0.2682080718928097, 0.021823612790378782), ('treatment', 0.2682080718928097, 0.2618833534845454), ('wastewater', 0.2682080718928097, 0.24005974069416663), ('water', 0.2682080718928097, 0.4364722558075757)]\n"
          ]
        },
        {
          "output_type": "stream",
          "name": "stderr",
          "text": [
            "/usr/local/lib/python3.10/dist-packages/ipykernel/ipkernel.py:283: DeprecationWarning: `should_run_async` will not call `transform_cell` automatically in the future. Please pass the result to `transformed_cell` argument and any exception that happen during thetransform in `preprocessing_exc_tuple` in IPython 7.17 and above.\n",
            "  and should_run_async(code)\n"
          ]
        }
      ]
    },
    {
      "cell_type": "markdown",
      "source": [
        "# Semantic Similarity Analysis"
      ],
      "metadata": {
        "id": "G9QZghc__UO8"
      }
    },
    {
      "cell_type": "code",
      "source": [
        "# Initialize the Sentence-BERT model\n",
        "model = SentenceTransformer('all-MiniLM-L6-v2')\n",
        "\n",
        "abstracts = data['Abstract']\n",
        "keywords = data['Keyword']\n",
        "\n",
        "# Generate embeddings for abstracts and LLM keywords\n",
        "abstract_embeddings = model.encode(abstracts)\n",
        "keywords_embeddings = model.encode(keywords)\n",
        "\n",
        "# Compute cosine similarity between each abstract and its corresponding LLM keywords\n",
        "similarities = [cosine_similarity([abstract_embeddings[i]], [keywords_embeddings[i]])[0][0] for i in range(len(abstracts))]\n",
        "\n",
        "# Display similarity scores\n",
        "for i, similarity in enumerate(similarities):\n",
        "    print(f\"Abstract {i+1} - Semantic Similarity: {similarity:.4f}\")"
      ],
      "metadata": {
        "colab": {
          "base_uri": "https://localhost:8080/"
        },
        "id": "uXERyzXT_V0e",
        "outputId": "b84de34b-3d70-4b32-9a01-38344a69b774"
      },
      "execution_count": 49,
      "outputs": [
        {
          "output_type": "stream",
          "name": "stderr",
          "text": [
            "/usr/local/lib/python3.10/dist-packages/ipykernel/ipkernel.py:283: DeprecationWarning: `should_run_async` will not call `transform_cell` automatically in the future. Please pass the result to `transformed_cell` argument and any exception that happen during thetransform in `preprocessing_exc_tuple` in IPython 7.17 and above.\n",
            "  and should_run_async(code)\n"
          ]
        },
        {
          "output_type": "stream",
          "name": "stdout",
          "text": [
            "Abstract 1 - Semantic Similarity: 0.5895\n",
            "Abstract 2 - Semantic Similarity: 0.6742\n",
            "Abstract 3 - Semantic Similarity: 0.4701\n",
            "Abstract 4 - Semantic Similarity: 0.2338\n",
            "Abstract 5 - Semantic Similarity: 0.7039\n",
            "Abstract 6 - Semantic Similarity: 0.6359\n",
            "Abstract 7 - Semantic Similarity: 0.5360\n",
            "Abstract 8 - Semantic Similarity: 0.6599\n",
            "Abstract 9 - Semantic Similarity: 0.5538\n",
            "Abstract 10 - Semantic Similarity: 0.6539\n",
            "Abstract 11 - Semantic Similarity: 0.4797\n",
            "Abstract 12 - Semantic Similarity: 0.6681\n",
            "Abstract 13 - Semantic Similarity: 0.5428\n",
            "Abstract 14 - Semantic Similarity: 0.5827\n",
            "Abstract 15 - Semantic Similarity: 0.5845\n",
            "Abstract 16 - Semantic Similarity: 0.4154\n",
            "Abstract 17 - Semantic Similarity: 0.6802\n",
            "Abstract 18 - Semantic Similarity: 0.5167\n",
            "Abstract 19 - Semantic Similarity: 0.6345\n",
            "Abstract 20 - Semantic Similarity: 0.3338\n",
            "Abstract 21 - Semantic Similarity: 0.6322\n",
            "Abstract 22 - Semantic Similarity: 0.5277\n",
            "Abstract 23 - Semantic Similarity: 0.4406\n",
            "Abstract 24 - Semantic Similarity: 0.4708\n",
            "Abstract 25 - Semantic Similarity: 0.5085\n",
            "Abstract 26 - Semantic Similarity: 0.4784\n",
            "Abstract 27 - Semantic Similarity: 0.6090\n",
            "Abstract 28 - Semantic Similarity: 0.6369\n",
            "Abstract 29 - Semantic Similarity: 0.5505\n",
            "Abstract 30 - Semantic Similarity: 0.4868\n",
            "Abstract 31 - Semantic Similarity: 0.6247\n",
            "Abstract 32 - Semantic Similarity: 0.6037\n",
            "Abstract 33 - Semantic Similarity: 0.6787\n",
            "Abstract 34 - Semantic Similarity: 0.5563\n",
            "Abstract 35 - Semantic Similarity: 0.6207\n",
            "Abstract 36 - Semantic Similarity: 0.3801\n",
            "Abstract 37 - Semantic Similarity: 0.5973\n",
            "Abstract 38 - Semantic Similarity: 0.6548\n",
            "Abstract 39 - Semantic Similarity: 0.7401\n",
            "Abstract 40 - Semantic Similarity: 0.4933\n",
            "Abstract 41 - Semantic Similarity: 0.6040\n",
            "Abstract 42 - Semantic Similarity: 0.6040\n",
            "Abstract 43 - Semantic Similarity: 0.4937\n",
            "Abstract 44 - Semantic Similarity: 0.6125\n",
            "Abstract 45 - Semantic Similarity: 0.5437\n",
            "Abstract 46 - Semantic Similarity: 0.5763\n",
            "Abstract 47 - Semantic Similarity: 0.5513\n",
            "Abstract 48 - Semantic Similarity: 0.4991\n",
            "Abstract 49 - Semantic Similarity: 0.6857\n",
            "Abstract 50 - Semantic Similarity: 0.4431\n",
            "Abstract 51 - Semantic Similarity: 0.4306\n",
            "Abstract 52 - Semantic Similarity: 0.4570\n",
            "Abstract 53 - Semantic Similarity: 0.6307\n",
            "Abstract 54 - Semantic Similarity: 0.8307\n",
            "Abstract 55 - Semantic Similarity: 0.5666\n",
            "Abstract 56 - Semantic Similarity: 0.4746\n",
            "Abstract 57 - Semantic Similarity: 0.5417\n",
            "Abstract 58 - Semantic Similarity: 0.6427\n",
            "Abstract 59 - Semantic Similarity: 0.6142\n",
            "Abstract 60 - Semantic Similarity: 0.6145\n",
            "Abstract 61 - Semantic Similarity: 0.6807\n",
            "Abstract 62 - Semantic Similarity: 0.6950\n",
            "Abstract 63 - Semantic Similarity: 0.6096\n",
            "Abstract 64 - Semantic Similarity: 0.5898\n",
            "Abstract 65 - Semantic Similarity: 0.4635\n",
            "Abstract 66 - Semantic Similarity: 0.5612\n",
            "Abstract 67 - Semantic Similarity: 0.4666\n",
            "Abstract 68 - Semantic Similarity: 0.5047\n",
            "Abstract 69 - Semantic Similarity: 0.6367\n",
            "Abstract 70 - Semantic Similarity: 0.2402\n",
            "Abstract 71 - Semantic Similarity: 0.6053\n",
            "Abstract 72 - Semantic Similarity: 0.4910\n",
            "Abstract 73 - Semantic Similarity: 0.5546\n",
            "Abstract 74 - Semantic Similarity: 0.4349\n",
            "Abstract 75 - Semantic Similarity: 0.5793\n",
            "Abstract 76 - Semantic Similarity: 0.4991\n",
            "Abstract 77 - Semantic Similarity: 0.7808\n",
            "Abstract 78 - Semantic Similarity: 0.6061\n",
            "Abstract 79 - Semantic Similarity: 0.5521\n",
            "Abstract 80 - Semantic Similarity: 0.5566\n",
            "Abstract 81 - Semantic Similarity: 0.4848\n",
            "Abstract 82 - Semantic Similarity: 0.3212\n",
            "Abstract 83 - Semantic Similarity: 0.4356\n",
            "Abstract 84 - Semantic Similarity: 0.3467\n",
            "Abstract 85 - Semantic Similarity: 0.4934\n",
            "Abstract 86 - Semantic Similarity: 0.4971\n",
            "Abstract 87 - Semantic Similarity: 0.4784\n",
            "Abstract 88 - Semantic Similarity: 0.5386\n",
            "Abstract 89 - Semantic Similarity: 0.7026\n",
            "Abstract 90 - Semantic Similarity: 0.5512\n",
            "Abstract 91 - Semantic Similarity: 0.5809\n",
            "Abstract 92 - Semantic Similarity: 0.7062\n",
            "Abstract 93 - Semantic Similarity: 0.6471\n",
            "Abstract 94 - Semantic Similarity: 0.6208\n",
            "Abstract 95 - Semantic Similarity: 0.5414\n",
            "Abstract 96 - Semantic Similarity: 0.5898\n",
            "Abstract 97 - Semantic Similarity: 0.6674\n",
            "Abstract 98 - Semantic Similarity: 0.4998\n",
            "Abstract 99 - Semantic Similarity: 0.7958\n",
            "Abstract 100 - Semantic Similarity: 0.4689\n",
            "Abstract 101 - Semantic Similarity: 0.4654\n",
            "Abstract 102 - Semantic Similarity: 0.5152\n",
            "Abstract 103 - Semantic Similarity: 0.6361\n",
            "Abstract 104 - Semantic Similarity: 0.5221\n",
            "Abstract 105 - Semantic Similarity: 0.6075\n",
            "Abstract 106 - Semantic Similarity: 0.5778\n",
            "Abstract 107 - Semantic Similarity: 0.4801\n",
            "Abstract 108 - Semantic Similarity: 0.6615\n",
            "Abstract 109 - Semantic Similarity: 0.5902\n",
            "Abstract 110 - Semantic Similarity: 0.5073\n",
            "Abstract 111 - Semantic Similarity: 0.3945\n",
            "Abstract 112 - Semantic Similarity: 0.4062\n",
            "Abstract 113 - Semantic Similarity: 0.6033\n",
            "Abstract 114 - Semantic Similarity: 0.7938\n",
            "Abstract 115 - Semantic Similarity: 0.3554\n",
            "Abstract 116 - Semantic Similarity: 0.5585\n",
            "Abstract 117 - Semantic Similarity: 0.6032\n",
            "Abstract 118 - Semantic Similarity: 0.7385\n",
            "Abstract 119 - Semantic Similarity: 0.3982\n",
            "Abstract 120 - Semantic Similarity: 0.5181\n",
            "Abstract 121 - Semantic Similarity: 0.7090\n",
            "Abstract 122 - Semantic Similarity: 0.5401\n",
            "Abstract 123 - Semantic Similarity: 0.5659\n",
            "Abstract 124 - Semantic Similarity: 0.5353\n",
            "Abstract 125 - Semantic Similarity: 0.6375\n",
            "Abstract 126 - Semantic Similarity: 0.3345\n",
            "Abstract 127 - Semantic Similarity: 0.5236\n",
            "Abstract 128 - Semantic Similarity: 0.6517\n",
            "Abstract 129 - Semantic Similarity: 0.4793\n",
            "Abstract 130 - Semantic Similarity: 0.3317\n",
            "Abstract 131 - Semantic Similarity: 0.4178\n",
            "Abstract 132 - Semantic Similarity: 0.4328\n",
            "Abstract 133 - Semantic Similarity: 0.4688\n",
            "Abstract 134 - Semantic Similarity: 0.5917\n",
            "Abstract 135 - Semantic Similarity: 0.3541\n",
            "Abstract 136 - Semantic Similarity: 0.7280\n",
            "Abstract 137 - Semantic Similarity: 0.5489\n",
            "Abstract 138 - Semantic Similarity: 0.7294\n",
            "Abstract 139 - Semantic Similarity: 0.5432\n",
            "Abstract 140 - Semantic Similarity: 0.6943\n",
            "Abstract 141 - Semantic Similarity: 0.6642\n",
            "Abstract 142 - Semantic Similarity: 0.5284\n",
            "Abstract 143 - Semantic Similarity: 0.4253\n",
            "Abstract 144 - Semantic Similarity: 0.6812\n",
            "Abstract 145 - Semantic Similarity: 0.6113\n",
            "Abstract 146 - Semantic Similarity: 0.5549\n",
            "Abstract 147 - Semantic Similarity: 0.6956\n",
            "Abstract 148 - Semantic Similarity: 0.4168\n",
            "Abstract 149 - Semantic Similarity: 0.4743\n",
            "Abstract 150 - Semantic Similarity: 0.4683\n",
            "Abstract 151 - Semantic Similarity: 0.3769\n",
            "Abstract 152 - Semantic Similarity: 0.6746\n",
            "Abstract 153 - Semantic Similarity: 0.2626\n",
            "Abstract 154 - Semantic Similarity: 0.6797\n",
            "Abstract 155 - Semantic Similarity: 0.4056\n",
            "Abstract 156 - Semantic Similarity: 0.4496\n",
            "Abstract 157 - Semantic Similarity: 0.5378\n",
            "Abstract 158 - Semantic Similarity: 0.6251\n",
            "Abstract 159 - Semantic Similarity: 0.5085\n",
            "Abstract 160 - Semantic Similarity: 0.6548\n",
            "Abstract 161 - Semantic Similarity: 0.4655\n",
            "Abstract 162 - Semantic Similarity: 0.6951\n",
            "Abstract 163 - Semantic Similarity: 0.5614\n",
            "Abstract 164 - Semantic Similarity: 0.5181\n",
            "Abstract 165 - Semantic Similarity: 0.4877\n",
            "Abstract 166 - Semantic Similarity: 0.6318\n",
            "Abstract 167 - Semantic Similarity: 0.2014\n",
            "Abstract 168 - Semantic Similarity: 0.3177\n",
            "Abstract 169 - Semantic Similarity: 0.3629\n",
            "Abstract 170 - Semantic Similarity: 0.6770\n",
            "Abstract 171 - Semantic Similarity: 0.6096\n",
            "Abstract 172 - Semantic Similarity: 0.5129\n",
            "Abstract 173 - Semantic Similarity: 0.3849\n",
            "Abstract 174 - Semantic Similarity: 0.4815\n",
            "Abstract 175 - Semantic Similarity: 0.5465\n",
            "Abstract 176 - Semantic Similarity: 0.5423\n",
            "Abstract 177 - Semantic Similarity: 0.3583\n",
            "Abstract 178 - Semantic Similarity: 0.4843\n",
            "Abstract 179 - Semantic Similarity: 0.6482\n",
            "Abstract 180 - Semantic Similarity: 0.5542\n",
            "Abstract 181 - Semantic Similarity: 0.3755\n",
            "Abstract 182 - Semantic Similarity: 0.6094\n",
            "Abstract 183 - Semantic Similarity: 0.3566\n",
            "Abstract 184 - Semantic Similarity: 0.7084\n",
            "Abstract 185 - Semantic Similarity: 0.4479\n",
            "Abstract 186 - Semantic Similarity: 0.6896\n",
            "Abstract 187 - Semantic Similarity: 0.5310\n",
            "Abstract 188 - Semantic Similarity: 0.6191\n",
            "Abstract 189 - Semantic Similarity: 0.5629\n",
            "Abstract 190 - Semantic Similarity: 0.6312\n",
            "Abstract 191 - Semantic Similarity: 0.4123\n",
            "Abstract 192 - Semantic Similarity: 0.7113\n",
            "Abstract 193 - Semantic Similarity: 0.6349\n",
            "Abstract 194 - Semantic Similarity: 0.5332\n",
            "Abstract 195 - Semantic Similarity: 0.3703\n",
            "Abstract 196 - Semantic Similarity: 0.4757\n",
            "Abstract 197 - Semantic Similarity: 0.5799\n",
            "Abstract 198 - Semantic Similarity: 0.3789\n",
            "Abstract 199 - Semantic Similarity: 0.4412\n",
            "Abstract 200 - Semantic Similarity: 0.6169\n",
            "Abstract 201 - Semantic Similarity: 0.6782\n",
            "Abstract 202 - Semantic Similarity: 0.5551\n",
            "Abstract 203 - Semantic Similarity: 0.7242\n",
            "Abstract 204 - Semantic Similarity: 0.3980\n",
            "Abstract 205 - Semantic Similarity: 0.7197\n",
            "Abstract 206 - Semantic Similarity: 0.4010\n",
            "Abstract 207 - Semantic Similarity: 0.7459\n",
            "Abstract 208 - Semantic Similarity: 0.5641\n",
            "Abstract 209 - Semantic Similarity: 0.5994\n",
            "Abstract 210 - Semantic Similarity: 0.5180\n",
            "Abstract 211 - Semantic Similarity: 0.5400\n",
            "Abstract 212 - Semantic Similarity: 0.5100\n",
            "Abstract 213 - Semantic Similarity: 0.3587\n",
            "Abstract 214 - Semantic Similarity: 0.3864\n",
            "Abstract 215 - Semantic Similarity: 0.6469\n",
            "Abstract 216 - Semantic Similarity: 0.4627\n",
            "Abstract 217 - Semantic Similarity: 0.5780\n",
            "Abstract 218 - Semantic Similarity: 0.7239\n",
            "Abstract 219 - Semantic Similarity: 0.6442\n",
            "Abstract 220 - Semantic Similarity: 0.6904\n",
            "Abstract 221 - Semantic Similarity: 0.6132\n",
            "Abstract 222 - Semantic Similarity: 0.5742\n",
            "Abstract 223 - Semantic Similarity: 0.3153\n",
            "Abstract 224 - Semantic Similarity: 0.5801\n",
            "Abstract 225 - Semantic Similarity: 0.4786\n",
            "Abstract 226 - Semantic Similarity: 0.4566\n",
            "Abstract 227 - Semantic Similarity: 0.4313\n",
            "Abstract 228 - Semantic Similarity: 0.5396\n",
            "Abstract 229 - Semantic Similarity: 0.5777\n",
            "Abstract 230 - Semantic Similarity: 0.5154\n",
            "Abstract 231 - Semantic Similarity: 0.3416\n",
            "Abstract 232 - Semantic Similarity: 0.5707\n",
            "Abstract 233 - Semantic Similarity: 0.4320\n",
            "Abstract 234 - Semantic Similarity: 0.7133\n",
            "Abstract 235 - Semantic Similarity: 0.6043\n",
            "Abstract 236 - Semantic Similarity: 0.6283\n",
            "Abstract 237 - Semantic Similarity: 0.4392\n"
          ]
        }
      ]
    },
    {
      "cell_type": "code",
      "source": [
        "# Save Results\n",
        "data['Semantic Similarity'] = similarities\n",
        "\n",
        "output_file = 'output.xlsx'\n",
        "data.to_excel(output_file, index=False)\n",
        "\n",
        "print(f\"Results saved to {output_file}\")"
      ],
      "metadata": {
        "colab": {
          "base_uri": "https://localhost:8080/"
        },
        "id": "zVqja38ishfc",
        "outputId": "cf79b74f-3f6c-4a06-bf83-c1ab67d9301e"
      },
      "execution_count": 50,
      "outputs": [
        {
          "output_type": "stream",
          "name": "stdout",
          "text": [
            "Results saved to output.xlsx\n"
          ]
        },
        {
          "output_type": "stream",
          "name": "stderr",
          "text": [
            "/usr/local/lib/python3.10/dist-packages/ipykernel/ipkernel.py:283: DeprecationWarning: `should_run_async` will not call `transform_cell` automatically in the future. Please pass the result to `transformed_cell` argument and any exception that happen during thetransform in `preprocessing_exc_tuple` in IPython 7.17 and above.\n",
            "  and should_run_async(code)\n"
          ]
        }
      ]
    }
  ]
}