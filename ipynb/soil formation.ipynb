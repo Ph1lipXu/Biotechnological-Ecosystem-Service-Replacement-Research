{
  "nbformat": 4,
  "nbformat_minor": 0,
  "metadata": {
    "colab": {
      "provenance": []
    },
    "kernelspec": {
      "name": "python3",
      "display_name": "Python 3"
    },
    "language_info": {
      "name": "python"
    }
  },
  "cells": [
    {
      "cell_type": "code",
      "source": [
        "!pip install pyLDAvis\n",
        "!pip install sentence-transformers scipy"
      ],
      "metadata": {
        "colab": {
          "base_uri": "https://localhost:8080/"
        },
        "id": "lXQgd_-q5-0L",
        "outputId": "73196658-3829-4d7b-ce30-5ceda563c4a4"
      },
      "execution_count": 1,
      "outputs": [
        {
          "output_type": "stream",
          "name": "stdout",
          "text": [
            "Collecting pyLDAvis\n",
            "  Downloading pyLDAvis-3.4.1-py3-none-any.whl.metadata (4.2 kB)\n",
            "Requirement already satisfied: numpy>=1.24.2 in /usr/local/lib/python3.10/dist-packages (from pyLDAvis) (1.26.4)\n",
            "Requirement already satisfied: scipy in /usr/local/lib/python3.10/dist-packages (from pyLDAvis) (1.13.1)\n",
            "Requirement already satisfied: pandas>=2.0.0 in /usr/local/lib/python3.10/dist-packages (from pyLDAvis) (2.2.2)\n",
            "Requirement already satisfied: joblib>=1.2.0 in /usr/local/lib/python3.10/dist-packages (from pyLDAvis) (1.4.2)\n",
            "Requirement already satisfied: jinja2 in /usr/local/lib/python3.10/dist-packages (from pyLDAvis) (3.1.4)\n",
            "Requirement already satisfied: numexpr in /usr/local/lib/python3.10/dist-packages (from pyLDAvis) (2.10.2)\n",
            "Collecting funcy (from pyLDAvis)\n",
            "  Downloading funcy-2.0-py2.py3-none-any.whl.metadata (5.9 kB)\n",
            "Requirement already satisfied: scikit-learn>=1.0.0 in /usr/local/lib/python3.10/dist-packages (from pyLDAvis) (1.5.2)\n",
            "Requirement already satisfied: gensim in /usr/local/lib/python3.10/dist-packages (from pyLDAvis) (4.3.3)\n",
            "Requirement already satisfied: setuptools in /usr/local/lib/python3.10/dist-packages (from pyLDAvis) (75.1.0)\n",
            "Requirement already satisfied: python-dateutil>=2.8.2 in /usr/local/lib/python3.10/dist-packages (from pandas>=2.0.0->pyLDAvis) (2.8.2)\n",
            "Requirement already satisfied: pytz>=2020.1 in /usr/local/lib/python3.10/dist-packages (from pandas>=2.0.0->pyLDAvis) (2024.2)\n",
            "Requirement already satisfied: tzdata>=2022.7 in /usr/local/lib/python3.10/dist-packages (from pandas>=2.0.0->pyLDAvis) (2024.2)\n",
            "Requirement already satisfied: threadpoolctl>=3.1.0 in /usr/local/lib/python3.10/dist-packages (from scikit-learn>=1.0.0->pyLDAvis) (3.5.0)\n",
            "Requirement already satisfied: smart-open>=1.8.1 in /usr/local/lib/python3.10/dist-packages (from gensim->pyLDAvis) (7.0.5)\n",
            "Requirement already satisfied: MarkupSafe>=2.0 in /usr/local/lib/python3.10/dist-packages (from jinja2->pyLDAvis) (3.0.2)\n",
            "Requirement already satisfied: six>=1.5 in /usr/local/lib/python3.10/dist-packages (from python-dateutil>=2.8.2->pandas>=2.0.0->pyLDAvis) (1.16.0)\n",
            "Requirement already satisfied: wrapt in /usr/local/lib/python3.10/dist-packages (from smart-open>=1.8.1->gensim->pyLDAvis) (1.17.0)\n",
            "Downloading pyLDAvis-3.4.1-py3-none-any.whl (2.6 MB)\n",
            "\u001b[2K   \u001b[90m━━━━━━━━━━━━━━━━━━━━━━━━━━━━━━━━━━━━━━━━\u001b[0m \u001b[32m2.6/2.6 MB\u001b[0m \u001b[31m39.9 MB/s\u001b[0m eta \u001b[36m0:00:00\u001b[0m\n",
            "\u001b[?25hDownloading funcy-2.0-py2.py3-none-any.whl (30 kB)\n",
            "Installing collected packages: funcy, pyLDAvis\n",
            "Successfully installed funcy-2.0 pyLDAvis-3.4.1\n",
            "Requirement already satisfied: sentence-transformers in /usr/local/lib/python3.10/dist-packages (3.2.1)\n",
            "Requirement already satisfied: scipy in /usr/local/lib/python3.10/dist-packages (1.13.1)\n",
            "Requirement already satisfied: transformers<5.0.0,>=4.41.0 in /usr/local/lib/python3.10/dist-packages (from sentence-transformers) (4.46.3)\n",
            "Requirement already satisfied: tqdm in /usr/local/lib/python3.10/dist-packages (from sentence-transformers) (4.66.6)\n",
            "Requirement already satisfied: torch>=1.11.0 in /usr/local/lib/python3.10/dist-packages (from sentence-transformers) (2.5.1+cu121)\n",
            "Requirement already satisfied: scikit-learn in /usr/local/lib/python3.10/dist-packages (from sentence-transformers) (1.5.2)\n",
            "Requirement already satisfied: huggingface-hub>=0.20.0 in /usr/local/lib/python3.10/dist-packages (from sentence-transformers) (0.26.3)\n",
            "Requirement already satisfied: Pillow in /usr/local/lib/python3.10/dist-packages (from sentence-transformers) (11.0.0)\n",
            "Requirement already satisfied: numpy<2.3,>=1.22.4 in /usr/local/lib/python3.10/dist-packages (from scipy) (1.26.4)\n",
            "Requirement already satisfied: filelock in /usr/local/lib/python3.10/dist-packages (from huggingface-hub>=0.20.0->sentence-transformers) (3.16.1)\n",
            "Requirement already satisfied: fsspec>=2023.5.0 in /usr/local/lib/python3.10/dist-packages (from huggingface-hub>=0.20.0->sentence-transformers) (2024.10.0)\n",
            "Requirement already satisfied: packaging>=20.9 in /usr/local/lib/python3.10/dist-packages (from huggingface-hub>=0.20.0->sentence-transformers) (24.2)\n",
            "Requirement already satisfied: pyyaml>=5.1 in /usr/local/lib/python3.10/dist-packages (from huggingface-hub>=0.20.0->sentence-transformers) (6.0.2)\n",
            "Requirement already satisfied: requests in /usr/local/lib/python3.10/dist-packages (from huggingface-hub>=0.20.0->sentence-transformers) (2.32.3)\n",
            "Requirement already satisfied: typing-extensions>=3.7.4.3 in /usr/local/lib/python3.10/dist-packages (from huggingface-hub>=0.20.0->sentence-transformers) (4.12.2)\n",
            "Requirement already satisfied: networkx in /usr/local/lib/python3.10/dist-packages (from torch>=1.11.0->sentence-transformers) (3.4.2)\n",
            "Requirement already satisfied: jinja2 in /usr/local/lib/python3.10/dist-packages (from torch>=1.11.0->sentence-transformers) (3.1.4)\n",
            "Requirement already satisfied: sympy==1.13.1 in /usr/local/lib/python3.10/dist-packages (from torch>=1.11.0->sentence-transformers) (1.13.1)\n",
            "Requirement already satisfied: mpmath<1.4,>=1.1.0 in /usr/local/lib/python3.10/dist-packages (from sympy==1.13.1->torch>=1.11.0->sentence-transformers) (1.3.0)\n",
            "Requirement already satisfied: regex!=2019.12.17 in /usr/local/lib/python3.10/dist-packages (from transformers<5.0.0,>=4.41.0->sentence-transformers) (2024.9.11)\n",
            "Requirement already satisfied: tokenizers<0.21,>=0.20 in /usr/local/lib/python3.10/dist-packages (from transformers<5.0.0,>=4.41.0->sentence-transformers) (0.20.3)\n",
            "Requirement already satisfied: safetensors>=0.4.1 in /usr/local/lib/python3.10/dist-packages (from transformers<5.0.0,>=4.41.0->sentence-transformers) (0.4.5)\n",
            "Requirement already satisfied: joblib>=1.2.0 in /usr/local/lib/python3.10/dist-packages (from scikit-learn->sentence-transformers) (1.4.2)\n",
            "Requirement already satisfied: threadpoolctl>=3.1.0 in /usr/local/lib/python3.10/dist-packages (from scikit-learn->sentence-transformers) (3.5.0)\n",
            "Requirement already satisfied: MarkupSafe>=2.0 in /usr/local/lib/python3.10/dist-packages (from jinja2->torch>=1.11.0->sentence-transformers) (3.0.2)\n",
            "Requirement already satisfied: charset-normalizer<4,>=2 in /usr/local/lib/python3.10/dist-packages (from requests->huggingface-hub>=0.20.0->sentence-transformers) (3.4.0)\n",
            "Requirement already satisfied: idna<4,>=2.5 in /usr/local/lib/python3.10/dist-packages (from requests->huggingface-hub>=0.20.0->sentence-transformers) (3.10)\n",
            "Requirement already satisfied: urllib3<3,>=1.21.1 in /usr/local/lib/python3.10/dist-packages (from requests->huggingface-hub>=0.20.0->sentence-transformers) (2.2.3)\n",
            "Requirement already satisfied: certifi>=2017.4.17 in /usr/local/lib/python3.10/dist-packages (from requests->huggingface-hub>=0.20.0->sentence-transformers) (2024.8.30)\n"
          ]
        }
      ]
    },
    {
      "cell_type": "code",
      "source": [
        "# Download NLTK packages\n",
        "nltk.download('stopwords')\n",
        "nltk.download('wordnet')\n",
        "nltk.download('punkt')\n",
        "nltk.download('punkt_tab')"
      ],
      "metadata": {
        "colab": {
          "base_uri": "https://localhost:8080/"
        },
        "id": "PoEEDNHNoCuZ",
        "outputId": "01327cbb-44de-4b1b-bdc5-ea70bc05f359"
      },
      "execution_count": 3,
      "outputs": [
        {
          "output_type": "stream",
          "name": "stderr",
          "text": [
            "/usr/local/lib/python3.10/dist-packages/ipykernel/ipkernel.py:283: DeprecationWarning: `should_run_async` will not call `transform_cell` automatically in the future. Please pass the result to `transformed_cell` argument and any exception that happen during thetransform in `preprocessing_exc_tuple` in IPython 7.17 and above.\n",
            "  and should_run_async(code)\n",
            "[nltk_data] Downloading package stopwords to /root/nltk_data...\n",
            "[nltk_data]   Unzipping corpora/stopwords.zip.\n",
            "[nltk_data] Downloading package wordnet to /root/nltk_data...\n",
            "[nltk_data] Downloading package punkt to /root/nltk_data...\n",
            "[nltk_data]   Unzipping tokenizers/punkt.zip.\n",
            "[nltk_data] Downloading package punkt_tab to /root/nltk_data...\n",
            "[nltk_data]   Unzipping tokenizers/punkt_tab.zip.\n"
          ]
        },
        {
          "output_type": "execute_result",
          "data": {
            "text/plain": [
              "True"
            ]
          },
          "metadata": {},
          "execution_count": 3
        }
      ]
    },
    {
      "cell_type": "code",
      "source": [
        "import matplotlib.pyplot as plt\n",
        "import nltk\n",
        "import numpy as np\n",
        "import pandas as pd\n",
        "import pyLDAvis.gensim\n",
        "import re\n",
        "import seaborn as sns\n",
        "\n",
        "from gensim.models import CoherenceModel\n",
        "from gensim.corpora.dictionary import Dictionary\n",
        "from gensim.models import LdaModel\n",
        "from nltk.corpus import stopwords\n",
        "from nltk.stem import WordNetLemmatizer\n",
        "from sentence_transformers import SentenceTransformer\n",
        "from sklearn.feature_extraction.text import CountVectorizer\n",
        "from sklearn.metrics import jaccard_score\n",
        "from sklearn.metrics.pairwise import cosine_similarity\n",
        "\n",
        "from google.colab import drive"
      ],
      "metadata": {
        "colab": {
          "base_uri": "https://localhost:8080/"
        },
        "id": "_nGLhmxt3o2P",
        "outputId": "54cbfe1f-16ff-4e84-fcf6-f6455171e490"
      },
      "execution_count": 2,
      "outputs": [
        {
          "output_type": "stream",
          "name": "stderr",
          "text": [
            "/usr/local/lib/python3.10/dist-packages/sentence_transformers/cross_encoder/CrossEncoder.py:13: TqdmExperimentalWarning: Using `tqdm.autonotebook.tqdm` in notebook mode. Use `tqdm.tqdm` instead to force console mode (e.g. in jupyter console)\n",
            "  from tqdm.autonotebook import tqdm, trange\n",
            "/usr/local/lib/python3.10/dist-packages/tensorflow/lite/python/util.py:55: DeprecationWarning: jax.xla_computation is deprecated. Please use the AOT APIs; see https://jax.readthedocs.io/en/latest/aot.html. For example, replace xla_computation(f)(*xs) with jit(f).lower(*xs).compiler_ir('hlo'). See CHANGELOG.md for 0.4.30 for more examples.\n",
            "  from jax import xla_computation as _xla_computation\n",
            "/usr/local/lib/python3.10/dist-packages/tensorflow/lite/python/util.py:55: DeprecationWarning: jax.xla_computation is deprecated. Please use the AOT APIs; see https://jax.readthedocs.io/en/latest/aot.html. For example, replace xla_computation(f)(*xs) with jit(f).lower(*xs).compiler_ir('hlo'). See CHANGELOG.md for 0.4.30 for more examples.\n",
            "  from jax import xla_computation as _xla_computation\n"
          ]
        }
      ]
    },
    {
      "cell_type": "code",
      "source": [
        "drive.mount('/content/drive')\n",
        "\n",
        "data = pd.read_excel('/content/drive/MyDrive/Manufactured Ecosystems/soil formation/soil formation.xlsx')\n",
        "data = pd.DataFrame(data)"
      ],
      "metadata": {
        "colab": {
          "base_uri": "https://localhost:8080/"
        },
        "id": "_3Ouk5J1sI3Y",
        "outputId": "166e0729-31a3-4eab-e242-bfbd80c67df1"
      },
      "execution_count": 51,
      "outputs": [
        {
          "output_type": "stream",
          "name": "stderr",
          "text": [
            "/usr/local/lib/python3.10/dist-packages/ipykernel/ipkernel.py:283: DeprecationWarning: `should_run_async` will not call `transform_cell` automatically in the future. Please pass the result to `transformed_cell` argument and any exception that happen during thetransform in `preprocessing_exc_tuple` in IPython 7.17 and above.\n",
            "  and should_run_async(code)\n"
          ]
        },
        {
          "output_type": "stream",
          "name": "stdout",
          "text": [
            "Drive already mounted at /content/drive; to attempt to forcibly remount, call drive.mount(\"/content/drive\", force_remount=True).\n"
          ]
        }
      ]
    },
    {
      "cell_type": "markdown",
      "source": [
        "## Preprocessing"
      ],
      "metadata": {
        "id": "H3Z-Qz5-6L3d"
      }
    },
    {
      "cell_type": "markdown",
      "source": [
        "Feature Engineering, combine suitability and confidence score as composite score where high score means high suitablity **AND** high confidence level. Low score means low suitability **OR** low confidence level."
      ],
      "metadata": {
        "id": "ZewinulAnDT1"
      }
    },
    {
      "cell_type": "code",
      "source": [
        "import pandas as pd\n",
        "# Map Suitability Labels to Numerical Values\n",
        "label_to_value = {\"yes\": 0.9, \"maybe\": 0.5, \"no\": 0.2}\n",
        "data[\"Suitability\"] = data[\"Suitability\"].map(label_to_value)\n",
        "\n",
        "# Compute Composite Score\n",
        "data[\"Composite Score\"] = data[\"Suitability\"] * data[\"Confidence\"]\n",
        "\n",
        "# Output the DataFrame\n",
        "print(data.head(5))"
      ],
      "metadata": {
        "colab": {
          "base_uri": "https://localhost:8080/"
        },
        "id": "YYT9NlC0Czbg",
        "outputId": "3b4bad9b-2e0c-457f-e9e7-69a717d4fe17"
      },
      "execution_count": 52,
      "outputs": [
        {
          "output_type": "stream",
          "name": "stdout",
          "text": [
            "   Index       Authors                                       Article Title  \\\n",
            "0     39          Stavi  The potential use of biochar in reclaiming deg...   \n",
            "1     83            Rao  Agricultural Microbiology Research Progress in...   \n",
            "2      1       Quilliam  Life in the 'charosphere' - Does biochar in ag...   \n",
            "3      8         Burges  From phytoremediation of soil contaminants to ...   \n",
            "4     11  Gomez-Sagasti  Microbial Monitoring of the Recovery of Soil Q...   \n",
            "\n",
            "   Publication Year                                           Abstract  \\\n",
            "0              2012  Many of the world's rangelands are degraded du...   \n",
            "1              2019  The research efforts in microbiology over last...   \n",
            "2              2013  Biochar application has become a novel and eme...   \n",
            "3              2018  Since the emergence of phytoremediation, much ...   \n",
            "4              2012  Soil pollution with heavy metals is a worldwid...   \n",
            "\n",
            "   Suitability  Confidence           Keyword  Composite Score  \n",
            "0          0.9        0.85           biochar            0.765  \n",
            "1          0.9        0.80   soil microbiota            0.720  \n",
            "2          0.5        0.75           biochar            0.375  \n",
            "3          0.5        0.75  phytoremediation            0.375  \n",
            "4          0.5        0.70  phytoremediation            0.350  \n"
          ]
        },
        {
          "output_type": "stream",
          "name": "stderr",
          "text": [
            "/usr/local/lib/python3.10/dist-packages/ipykernel/ipkernel.py:283: DeprecationWarning: `should_run_async` will not call `transform_cell` automatically in the future. Please pass the result to `transformed_cell` argument and any exception that happen during thetransform in `preprocessing_exc_tuple` in IPython 7.17 and above.\n",
            "  and should_run_async(code)\n"
          ]
        }
      ]
    },
    {
      "cell_type": "code",
      "source": [
        "# Preprocessing function\n",
        "def preprocess_text(text):\n",
        "    stop_words = set(stopwords.words('english'))\n",
        "    lemmatizer = WordNetLemmatizer()\n",
        "\n",
        "    # Lowercase, remove special characters\n",
        "    text = re.sub(r'[^\\w\\s]', '', text.lower())\n",
        "\n",
        "    # Tokenize\n",
        "    words = nltk.word_tokenize(text)\n",
        "\n",
        "    # Remove stopwords and lemmatize\n",
        "    processed = [lemmatizer.lemmatize(word) for word in words if word not in stop_words]\n",
        "    return processed\n",
        "\n",
        "# Load abstracts\n",
        "abstracts = data['Abstract']\n",
        "keywords = data['Keyword']\n",
        "# Preprocess all abstracts\n",
        "preprocessed_abstracts = [preprocess_text(abstract) for abstract in abstracts]\n",
        "preprocessed_keywords = [preprocess_text(keyword) for keyword in keywords]"
      ],
      "metadata": {
        "colab": {
          "base_uri": "https://localhost:8080/"
        },
        "id": "Pq4-Cz8Y5gU2",
        "outputId": "7105b952-90b0-4804-9590-cd53b4f3b41a"
      },
      "execution_count": 53,
      "outputs": [
        {
          "output_type": "stream",
          "name": "stderr",
          "text": [
            "/usr/local/lib/python3.10/dist-packages/ipykernel/ipkernel.py:283: DeprecationWarning: `should_run_async` will not call `transform_cell` automatically in the future. Please pass the result to `transformed_cell` argument and any exception that happen during thetransform in `preprocessing_exc_tuple` in IPython 7.17 and above.\n",
            "  and should_run_async(code)\n"
          ]
        }
      ]
    },
    {
      "cell_type": "markdown",
      "source": [
        "# LDA"
      ],
      "metadata": {
        "id": "hpXz3PNK6Wy6"
      }
    },
    {
      "cell_type": "markdown",
      "source": [
        "## Optimal Topic Number"
      ],
      "metadata": {
        "id": "lZz_BcAxpgZX"
      }
    },
    {
      "cell_type": "code",
      "source": [
        "# Create a dictionary representation of the documents\n",
        "dictionary = Dictionary(preprocessed_abstracts)\n",
        "\n",
        "# Convert the documents into a bag-of-words format\n",
        "corpus = [dictionary.doc2bow(text) for text in preprocessed_abstracts]\n",
        "\n",
        "print(\"Sample BOW representation:\", corpus[:1])  # Example output"
      ],
      "metadata": {
        "colab": {
          "base_uri": "https://localhost:8080/"
        },
        "id": "bnyXHB3S6RzJ",
        "outputId": "6dc7f869-aca5-44f5-fd80-b229a4e12eb4"
      },
      "execution_count": 54,
      "outputs": [
        {
          "output_type": "stream",
          "name": "stdout",
          "text": [
            "Sample BOW representation: [[(0, 1), (1, 1), (2, 1), (3, 1), (4, 1), (5, 1), (6, 1), (7, 1), (8, 1), (9, 3), (10, 1), (11, 1), (12, 1), (13, 1), (14, 4), (15, 1), (16, 1), (17, 1), (18, 1), (19, 1), (20, 1), (21, 1), (22, 1), (23, 2), (24, 1), (25, 1), (26, 1), (27, 1), (28, 1), (29, 1), (30, 1), (31, 1), (32, 1), (33, 1), (34, 1), (35, 1), (36, 1), (37, 1), (38, 1), (39, 1), (40, 2), (41, 1), (42, 1), (43, 1), (44, 1), (45, 1), (46, 1), (47, 2), (48, 1), (49, 1), (50, 1), (51, 1), (52, 1), (53, 1), (54, 1), (55, 1), (56, 1), (57, 1), (58, 1), (59, 1), (60, 2), (61, 1), (62, 1), (63, 1), (64, 1), (65, 1), (66, 1), (67, 1), (68, 2), (69, 1), (70, 1), (71, 1), (72, 1), (73, 1), (74, 3), (75, 1), (76, 1), (77, 1), (78, 1), (79, 1), (80, 2), (81, 1), (82, 6), (83, 1), (84, 1), (85, 1), (86, 1), (87, 1), (88, 2), (89, 1), (90, 1), (91, 1), (92, 1), (93, 1), (94, 1), (95, 1), (96, 1)]]\n"
          ]
        },
        {
          "output_type": "stream",
          "name": "stderr",
          "text": [
            "/usr/local/lib/python3.10/dist-packages/ipykernel/ipkernel.py:283: DeprecationWarning: `should_run_async` will not call `transform_cell` automatically in the future. Please pass the result to `transformed_cell` argument and any exception that happen during thetransform in `preprocessing_exc_tuple` in IPython 7.17 and above.\n",
            "  and should_run_async(code)\n"
          ]
        }
      ]
    },
    {
      "cell_type": "code",
      "source": [
        "# Function to compute coherence scores for different topic numbers\n",
        "def find_optimal_topics(corpus, dictionary, texts, start=2, end=20):\n",
        "    coherence_scores = []\n",
        "    for num_topics in range(start, end + 1):\n",
        "        lda_model = LdaModel(corpus, num_topics=num_topics, id2word=dictionary, passes=15, random_state=42)\n",
        "        coherence_model = CoherenceModel(model=lda_model, texts=texts, dictionary=dictionary, coherence='c_v')\n",
        "        coherence_scores.append((num_topics, coherence_model.get_coherence()))\n",
        "    return coherence_scores\n",
        "\n",
        "# Compute coherence scores\n",
        "coherence_scores = find_optimal_topics(corpus, dictionary, preprocessed_abstracts)\n",
        "\n",
        "# Plot the coherence scores\n",
        "import matplotlib.pyplot as plt\n",
        "x, y = zip(*coherence_scores)\n",
        "plt.plot(x, y, marker='o')\n",
        "plt.xlabel(\"Number of Topics\")\n",
        "plt.ylabel(\"Coherence Score\")\n",
        "plt.title(\"Coherence Score vs. Number of Topics\")\n",
        "plt.show()"
      ],
      "metadata": {
        "colab": {
          "base_uri": "https://localhost:8080/",
          "height": 527
        },
        "id": "SrHD4jgW7ts7",
        "outputId": "ea3494b0-77c5-492f-9666-5ac9524b4ef5"
      },
      "execution_count": 55,
      "outputs": [
        {
          "output_type": "stream",
          "name": "stderr",
          "text": [
            "/usr/local/lib/python3.10/dist-packages/ipykernel/ipkernel.py:283: DeprecationWarning: `should_run_async` will not call `transform_cell` automatically in the future. Please pass the result to `transformed_cell` argument and any exception that happen during thetransform in `preprocessing_exc_tuple` in IPython 7.17 and above.\n",
            "  and should_run_async(code)\n"
          ]
        },
        {
          "output_type": "display_data",
          "data": {
            "text/plain": [
              "<Figure size 640x480 with 1 Axes>"
            ],
            "image/png": "[encoded data removed]"
          },
          "metadata": {}
        }
      ]
    },
    {
      "cell_type": "code",
      "source": [
        "# Number of topics to extract\n",
        "num_topics = 13\n",
        "\n",
        "# Train the LDA model\n",
        "lda_model = LdaModel(corpus, num_topics=num_topics, id2word=dictionary, passes=15, random_state=89)\n",
        "\n",
        "# Print the topics\n",
        "topics = lda_model.print_topics(num_words=10)\n",
        "for topic_num, topic in topics:\n",
        "    print(f\"Topic {topic_num+1}: {topic}\")"
      ],
      "metadata": {
        "colab": {
          "base_uri": "https://localhost:8080/"
        },
        "id": "LVFmgLYz6YAd",
        "outputId": "b8099f93-f740-4dae-9af6-34be0f5582e5"
      },
      "execution_count": 56,
      "outputs": [
        {
          "output_type": "stream",
          "name": "stderr",
          "text": [
            "/usr/local/lib/python3.10/dist-packages/ipykernel/ipkernel.py:283: DeprecationWarning: `should_run_async` will not call `transform_cell` automatically in the future. Please pass the result to `transformed_cell` argument and any exception that happen during thetransform in `preprocessing_exc_tuple` in IPython 7.17 and above.\n",
            "  and should_run_async(code)\n"
          ]
        },
        {
          "output_type": "stream",
          "name": "stdout",
          "text": [
            "Topic 1: 0.010*\"wastewater\" + 0.009*\"soil\" + 0.009*\"ec\" + 0.008*\"biomass\" + 0.008*\"process\" + 0.008*\"chemical\" + 0.008*\"environment\" + 0.007*\"however\" + 0.006*\"concentration\" + 0.006*\"ch\"\n",
            "Topic 2: 0.018*\"biochar\" + 0.010*\"soil\" + 0.009*\"microbial\" + 0.008*\"sediment\" + 0.006*\"test\" + 0.006*\"capital\" + 0.005*\"environmental\" + 0.005*\"energy\" + 0.005*\"ecological\" + 0.005*\"variable\"\n",
            "Topic 3: 0.023*\"soil\" + 0.016*\"carbon\" + 0.011*\"ca\" + 0.009*\"land\" + 0.009*\"c\" + 0.008*\"storage\" + 0.008*\"x\" + 0.007*\"practice\" + 0.007*\"service\" + 0.007*\"ecosystem\"\n",
            "Topic 4: 0.013*\"earthworm\" + 0.012*\"soil\" + 0.008*\"straw\" + 0.008*\"specie\" + 0.007*\"crop\" + 0.007*\"n\" + 0.007*\"rhizosphere\" + 0.007*\"cocropping\" + 0.005*\"organic\" + 0.005*\"hydrosols\"\n",
            "Topic 5: 0.041*\"soil\" + 0.012*\"ecosystem\" + 0.009*\"service\" + 0.008*\"microbial\" + 0.007*\"study\" + 0.007*\"wetland\" + 0.007*\"change\" + 0.007*\"plant\" + 0.007*\"value\" + 0.006*\"forest\"\n",
            "Topic 6: 0.023*\"soil\" + 0.009*\"food\" + 0.009*\"crop\" + 0.008*\"land\" + 0.006*\"ecosystem\" + 0.006*\"production\" + 0.006*\"service\" + 0.006*\"change\" + 0.006*\"system\" + 0.006*\"product\"\n",
            "Topic 7: 0.015*\"service\" + 0.013*\"soil\" + 0.011*\"ecosystem\" + 0.009*\"invasive\" + 0.008*\"method\" + 0.008*\"factor\" + 0.008*\"plant\" + 0.008*\"tc\" + 0.007*\"wind\" + 0.007*\"moisture\"\n",
            "Topic 8: 0.019*\"soil\" + 0.011*\"resource\" + 0.010*\"carbon\" + 0.010*\"revegetation\" + 0.010*\"tradeoff\" + 0.009*\"environmental\" + 0.007*\"tree\" + 0.007*\"development\" + 0.007*\"water\" + 0.005*\"soc\"\n",
            "Topic 9: 0.024*\"soil\" + 0.015*\"water\" + 0.012*\"ecosystem\" + 0.009*\"status\" + 0.009*\"service\" + 0.008*\"organic\" + 0.008*\"ecological\" + 0.007*\"p\" + 0.007*\"microbial\" + 0.007*\"biochar\"\n",
            "Topic 10: 0.012*\"args\" + 0.008*\"macropore\" + 0.007*\"wastewater\" + 0.007*\"river\" + 0.007*\"pollutant\" + 0.006*\"soil\" + 0.006*\"source\" + 0.006*\"feed\" + 0.006*\"macropores\" + 0.006*\"removal\"\n",
            "Topic 11: 0.022*\"ecosystem\" + 0.021*\"service\" + 0.012*\"value\" + 0.009*\"change\" + 0.008*\"soil\" + 0.007*\"use\" + 0.006*\"study\" + 0.006*\"forest\" + 0.006*\"marine\" + 0.005*\"food\"\n",
            "Topic 12: 0.015*\"wetland\" + 0.012*\"information\" + 0.011*\"soil\" + 0.009*\"chloride\" + 0.007*\"soc\" + 0.007*\"coast\" + 0.007*\"property\" + 0.006*\"environmental\" + 0.006*\"model\" + 0.006*\"sediment\"\n",
            "Topic 13: 0.035*\"soil\" + 0.016*\"carbon\" + 0.010*\"water\" + 0.009*\"field\" + 0.008*\"service\" + 0.008*\"organic\" + 0.008*\"ecosystem\" + 0.007*\"reedbeds\" + 0.007*\"ssurgo\" + 0.007*\"irrigation\"\n"
          ]
        }
      ]
    },
    {
      "cell_type": "markdown",
      "source": [
        "## Compare with LLM Keywords"
      ],
      "metadata": {
        "id": "W3_Q40Va6kpj"
      }
    },
    {
      "cell_type": "code",
      "source": [
        "# Function to calculate Jaccard similarity\n",
        "def jaccard_similarity(list1, list2):\n",
        "    set1, set2 = set(list1), set(list2)\n",
        "    return len(set1 & set2) / len(set1 | set2)\n",
        "\n",
        "def preprocess_keywords(keywords):\n",
        "    lemmatizer = WordNetLemmatizer()\n",
        "    stop_words = set(stopwords.words('english'))\n",
        "\n",
        "    # Preprocess LLM keywords\n",
        "    processed_keywords = [\n",
        "        lemmatizer.lemmatize(word.lower())\n",
        "        for word in keywords if word.lower() not in stop_words\n",
        "    ]\n",
        "    return processed_keywords\n",
        "\n",
        "processed_keywords = preprocess_keywords(keywords)\n",
        "\n",
        "# Compare LDA topics with LLM keywords\n",
        "for topic_num, topic in topics:\n",
        "    lda_keywords = [term.split('*')[1].strip('\"') for term in topic.split('+')]\n",
        "    similarity = jaccard_similarity(processed_keywords, lda_keywords)\n",
        "    print(f\"Jaccard Similarity with Topic {topic_num+1}: {similarity}\")"
      ],
      "metadata": {
        "colab": {
          "base_uri": "https://localhost:8080/"
        },
        "id": "tVsrmplc6m1s",
        "outputId": "850d0980-068e-49f2-87da-52882ce38715"
      },
      "execution_count": 57,
      "outputs": [
        {
          "output_type": "stream",
          "name": "stdout",
          "text": [
            "Jaccard Similarity with Topic 1: 0.0\n",
            "Jaccard Similarity with Topic 2: 0.0\n",
            "Jaccard Similarity with Topic 3: 0.0\n",
            "Jaccard Similarity with Topic 4: 0.0\n",
            "Jaccard Similarity with Topic 5: 0.0\n",
            "Jaccard Similarity with Topic 6: 0.0\n",
            "Jaccard Similarity with Topic 7: 0.0\n",
            "Jaccard Similarity with Topic 8: 0.0\n",
            "Jaccard Similarity with Topic 9: 0.011764705882352941\n",
            "Jaccard Similarity with Topic 10: 0.0\n",
            "Jaccard Similarity with Topic 11: 0.0\n",
            "Jaccard Similarity with Topic 12: 0.0\n",
            "Jaccard Similarity with Topic 13: 0.0\n"
          ]
        },
        {
          "output_type": "stream",
          "name": "stderr",
          "text": [
            "/usr/local/lib/python3.10/dist-packages/ipykernel/ipkernel.py:283: DeprecationWarning: `should_run_async` will not call `transform_cell` automatically in the future. Please pass the result to `transformed_cell` argument and any exception that happen during thetransform in `preprocessing_exc_tuple` in IPython 7.17 and above.\n",
            "  and should_run_async(code)\n"
          ]
        }
      ]
    },
    {
      "cell_type": "code",
      "source": [
        "from sklearn.feature_extraction.text import TfidfVectorizer\n",
        "\n",
        "# Combine all LDA topic terms and LLM keywords into one list\n",
        "all_terms = [' '.join(lda_keywords), ' '.join(keywords)]\n",
        "\n",
        "# Compute TF-IDF matrix\n",
        "vectorizer = TfidfVectorizer()\n",
        "tfidf_matrix = vectorizer.fit_transform(all_terms)\n",
        "\n",
        "# Compute cosine similarity between LDA and LLM terms\n",
        "cosine_sim = cosine_similarity(tfidf_matrix[0:1], tfidf_matrix[1:2])\n",
        "print(\"TF-IDF Cosine Similarity:\", cosine_sim[0][0])"
      ],
      "metadata": {
        "colab": {
          "base_uri": "https://localhost:8080/"
        },
        "id": "NKqpe7g29cUw",
        "outputId": "f4b89733-b1b7-421f-96ab-a1ce44bb1722"
      },
      "execution_count": 58,
      "outputs": [
        {
          "output_type": "stream",
          "name": "stdout",
          "text": [
            "TF-IDF Cosine Similarity: 0.3599807430025017\n"
          ]
        },
        {
          "output_type": "stream",
          "name": "stderr",
          "text": [
            "/usr/local/lib/python3.10/dist-packages/ipykernel/ipkernel.py:283: DeprecationWarning: `should_run_async` will not call `transform_cell` automatically in the future. Please pass the result to `transformed_cell` argument and any exception that happen during thetransform in `preprocessing_exc_tuple` in IPython 7.17 and above.\n",
            "  and should_run_async(code)\n"
          ]
        }
      ]
    },
    {
      "cell_type": "code",
      "source": [
        "# Identify contributing keywords\n",
        "feature_names = vectorizer.get_feature_names_out()\n",
        "lda_vector = tfidf_matrix[0].toarray().flatten()\n",
        "llm_vector = tfidf_matrix[1].toarray().flatten()\n",
        "\n",
        "# Match terms with their TF-IDF weights\n",
        "term_weights = [(feature_names[i], lda_vector[i], llm_vector[i]) for i in range(len(feature_names))]\n",
        "\n",
        "# Filter terms where both vectors have non-zero weights\n",
        "common_terms = [(term, lda_weight, llm_weight) for term, lda_weight, llm_weight in term_weights if lda_weight > 0 and llm_weight > 0]\n",
        "print(\"Common Terms with TF-IDF Weights:\", common_terms)"
      ],
      "metadata": {
        "colab": {
          "base_uri": "https://localhost:8080/"
        },
        "id": "ihBdLYzY_CY-",
        "outputId": "b0de3c0c-cde4-4e07-f6d6-f8c90ef53222"
      },
      "execution_count": 59,
      "outputs": [
        {
          "output_type": "stream",
          "name": "stdout",
          "text": [
            "Common Terms with TF-IDF Weights: [('carbon', 0.278142902822662, 0.25884589493337984), ('ecosystem', 0.278142902822662, 0.23008523994078206), ('irrigation', 0.278142902822662, 0.028760654992597758), ('organic', 0.278142902822662, 0.057521309985195515), ('service', 0.278142902822662, 0.08628196497779328), ('soil', 0.278142902822662, 0.5752130998519551), ('water', 0.278142902822662, 0.057521309985195515)]\n"
          ]
        },
        {
          "output_type": "stream",
          "name": "stderr",
          "text": [
            "/usr/local/lib/python3.10/dist-packages/ipykernel/ipkernel.py:283: DeprecationWarning: `should_run_async` will not call `transform_cell` automatically in the future. Please pass the result to `transformed_cell` argument and any exception that happen during thetransform in `preprocessing_exc_tuple` in IPython 7.17 and above.\n",
            "  and should_run_async(code)\n"
          ]
        }
      ]
    },
    {
      "cell_type": "markdown",
      "source": [
        "# Semantic Similarity Analysis"
      ],
      "metadata": {
        "id": "G9QZghc__UO8"
      }
    },
    {
      "cell_type": "code",
      "source": [
        "# Initialize the Sentence-BERT model\n",
        "model = SentenceTransformer('all-MiniLM-L6-v2')\n",
        "\n",
        "abstracts = data['Abstract']\n",
        "keywords = data['Keyword']\n",
        "\n",
        "# Generate embeddings for abstracts and LLM keywords\n",
        "abstract_embeddings = model.encode(abstracts)\n",
        "keywords_embeddings = model.encode(keywords)\n",
        "\n",
        "# Compute cosine similarity between each abstract and its corresponding LLM keywords\n",
        "similarities = [cosine_similarity([abstract_embeddings[i]], [keywords_embeddings[i]])[0][0] for i in range(len(abstracts))]\n",
        "\n",
        "# Display similarity scores\n",
        "for i, similarity in enumerate(similarities):\n",
        "    print(f\"Abstract {i+1} - Semantic Similarity: {similarity:.4f}\")"
      ],
      "metadata": {
        "colab": {
          "base_uri": "https://localhost:8080/"
        },
        "id": "uXERyzXT_V0e",
        "outputId": "486c5d80-dd2e-4712-970b-479d714b7d61"
      },
      "execution_count": 60,
      "outputs": [
        {
          "output_type": "stream",
          "name": "stderr",
          "text": [
            "/usr/local/lib/python3.10/dist-packages/ipykernel/ipkernel.py:283: DeprecationWarning: `should_run_async` will not call `transform_cell` automatically in the future. Please pass the result to `transformed_cell` argument and any exception that happen during thetransform in `preprocessing_exc_tuple` in IPython 7.17 and above.\n",
            "  and should_run_async(code)\n"
          ]
        },
        {
          "output_type": "stream",
          "name": "stdout",
          "text": [
            "Abstract 1 - Semantic Similarity: 0.4177\n",
            "Abstract 2 - Semantic Similarity: 0.7016\n",
            "Abstract 3 - Semantic Similarity: 0.5078\n",
            "Abstract 4 - Semantic Similarity: 0.6526\n",
            "Abstract 5 - Semantic Similarity: 0.4250\n",
            "Abstract 6 - Semantic Similarity: 0.7636\n",
            "Abstract 7 - Semantic Similarity: 0.7453\n",
            "Abstract 8 - Semantic Similarity: 0.4913\n",
            "Abstract 9 - Semantic Similarity: 0.5895\n",
            "Abstract 10 - Semantic Similarity: 0.5958\n",
            "Abstract 11 - Semantic Similarity: 0.6644\n",
            "Abstract 12 - Semantic Similarity: 0.6235\n",
            "Abstract 13 - Semantic Similarity: 0.4854\n",
            "Abstract 14 - Semantic Similarity: 0.6737\n",
            "Abstract 15 - Semantic Similarity: 0.6072\n",
            "Abstract 16 - Semantic Similarity: 0.3439\n",
            "Abstract 17 - Semantic Similarity: 0.6898\n",
            "Abstract 18 - Semantic Similarity: 0.5172\n",
            "Abstract 19 - Semantic Similarity: 0.3692\n",
            "Abstract 20 - Semantic Similarity: 0.5300\n",
            "Abstract 21 - Semantic Similarity: 0.6745\n",
            "Abstract 22 - Semantic Similarity: 0.4797\n",
            "Abstract 23 - Semantic Similarity: 0.4724\n",
            "Abstract 24 - Semantic Similarity: 0.4912\n",
            "Abstract 25 - Semantic Similarity: 0.5754\n",
            "Abstract 26 - Semantic Similarity: 0.4702\n",
            "Abstract 27 - Semantic Similarity: 0.3054\n",
            "Abstract 28 - Semantic Similarity: 0.6830\n",
            "Abstract 29 - Semantic Similarity: 0.5647\n",
            "Abstract 30 - Semantic Similarity: 0.7078\n",
            "Abstract 31 - Semantic Similarity: 0.6003\n",
            "Abstract 32 - Semantic Similarity: 0.6166\n",
            "Abstract 33 - Semantic Similarity: 0.6959\n",
            "Abstract 34 - Semantic Similarity: 0.5972\n",
            "Abstract 35 - Semantic Similarity: 0.6489\n",
            "Abstract 36 - Semantic Similarity: 0.7262\n",
            "Abstract 37 - Semantic Similarity: 0.5563\n",
            "Abstract 38 - Semantic Similarity: 0.5891\n",
            "Abstract 39 - Semantic Similarity: 0.5533\n",
            "Abstract 40 - Semantic Similarity: 0.6199\n",
            "Abstract 41 - Semantic Similarity: 0.6750\n",
            "Abstract 42 - Semantic Similarity: 0.6040\n",
            "Abstract 43 - Semantic Similarity: 0.6538\n",
            "Abstract 44 - Semantic Similarity: 0.6150\n",
            "Abstract 45 - Semantic Similarity: 0.3946\n",
            "Abstract 46 - Semantic Similarity: 0.6554\n",
            "Abstract 47 - Semantic Similarity: 0.5709\n",
            "Abstract 48 - Semantic Similarity: 0.6555\n",
            "Abstract 49 - Semantic Similarity: 0.6208\n",
            "Abstract 50 - Semantic Similarity: 0.5414\n",
            "Abstract 51 - Semantic Similarity: 0.5626\n",
            "Abstract 52 - Semantic Similarity: 0.6552\n",
            "Abstract 53 - Semantic Similarity: 0.6402\n",
            "Abstract 54 - Semantic Similarity: 0.4739\n",
            "Abstract 55 - Semantic Similarity: 0.4515\n",
            "Abstract 56 - Semantic Similarity: 0.5181\n",
            "Abstract 57 - Semantic Similarity: 0.5236\n",
            "Abstract 58 - Semantic Similarity: 0.5897\n",
            "Abstract 59 - Semantic Similarity: 0.5395\n",
            "Abstract 60 - Semantic Similarity: 0.6648\n",
            "Abstract 61 - Semantic Similarity: 0.7387\n",
            "Abstract 62 - Semantic Similarity: 0.5284\n",
            "Abstract 63 - Semantic Similarity: 0.5332\n",
            "Abstract 64 - Semantic Similarity: 0.6785\n",
            "Abstract 65 - Semantic Similarity: 0.4967\n",
            "Abstract 66 - Semantic Similarity: 0.6251\n",
            "Abstract 67 - Semantic Similarity: 0.5095\n",
            "Abstract 68 - Semantic Similarity: 0.3233\n",
            "Abstract 69 - Semantic Similarity: 0.3965\n",
            "Abstract 70 - Semantic Similarity: 0.7098\n",
            "Abstract 71 - Semantic Similarity: 0.5907\n",
            "Abstract 72 - Semantic Similarity: 0.6448\n",
            "Abstract 73 - Semantic Similarity: 0.5185\n",
            "Abstract 74 - Semantic Similarity: 0.7010\n",
            "Abstract 75 - Semantic Similarity: 0.5458\n",
            "Abstract 76 - Semantic Similarity: 0.5877\n",
            "Abstract 77 - Semantic Similarity: 0.5896\n",
            "Abstract 78 - Semantic Similarity: 0.6105\n",
            "Abstract 79 - Semantic Similarity: 0.5261\n",
            "Abstract 80 - Semantic Similarity: 0.3241\n",
            "Abstract 81 - Semantic Similarity: 0.4274\n",
            "Abstract 82 - Semantic Similarity: 0.6140\n",
            "Abstract 83 - Semantic Similarity: 0.6400\n",
            "Abstract 84 - Semantic Similarity: 0.5589\n"
          ]
        }
      ]
    },
    {
      "cell_type": "code",
      "source": [
        "# Save Results\n",
        "data['Semantic Similarity'] = similarities\n",
        "\n",
        "output_file = 'output.xlsx'\n",
        "data.to_excel(output_file, index=False)\n",
        "\n",
        "print(f\"Results saved to {output_file}\")"
      ],
      "metadata": {
        "colab": {
          "base_uri": "https://localhost:8080/"
        },
        "id": "zVqja38ishfc",
        "outputId": "6ec24f6d-778a-4d51-abd0-df55fcef2a26"
      },
      "execution_count": 61,
      "outputs": [
        {
          "output_type": "stream",
          "name": "stdout",
          "text": [
            "Results saved to output.xlsx\n"
          ]
        },
        {
          "output_type": "stream",
          "name": "stderr",
          "text": [
            "/usr/local/lib/python3.10/dist-packages/ipykernel/ipkernel.py:283: DeprecationWarning: `should_run_async` will not call `transform_cell` automatically in the future. Please pass the result to `transformed_cell` argument and any exception that happen during thetransform in `preprocessing_exc_tuple` in IPython 7.17 and above.\n",
            "  and should_run_async(code)\n"
          ]
        }
      ]
    }
  ]
}